{
  "nbformat": 4,
  "nbformat_minor": 0,
  "metadata": {
    "colab": {
      "provenance": [],
      "machine_shape": "hm",
      "collapsed_sections": [],
      "include_colab_link": true
    },
    "kernelspec": {
      "name": "python3",
      "display_name": "Python 3"
    },
    "language_info": {
      "name": "python"
    },
    "gpuClass": "standard",
    "accelerator": "GPU"
  },
  "cells": [
    {
      "cell_type": "markdown",
      "metadata": {
        "id": "view-in-github",
        "colab_type": "text"
      },
      "source": [
        "<a href=\"https://colab.research.google.com/github/mautovhof/Clustering-Textual-Data-with-Word2Vec/blob/main/Google_Colab_3_2_Marta_Tovias_TFM_2022_WordEmdedding_Glove_Own_Corpus.ipynb\" target=\"_parent\"><img src=\"https://colab.research.google.com/assets/colab-badge.svg\" alt=\"Open In Colab\"/></a>"
      ]
    },
    {
      "cell_type": "code",
      "source": [
        "gpu_info = !nvidia-smi\n",
        "gpu_info = '\\n'.join(gpu_info)\n",
        "if gpu_info.find('failed') >= 0:\n",
        "  print('Not connected to a GPU')\n",
        "else:\n",
        "  print(gpu_info)"
      ],
      "metadata": {
        "colab": {
          "base_uri": "https://localhost:8080/"
        },
        "id": "W2cT3GA30U3J",
        "outputId": "19fb4669-1ff6-4730-f1f4-a5db6951813e"
      },
      "execution_count": null,
      "outputs": [
        {
          "output_type": "stream",
          "name": "stdout",
          "text": [
            "Sat Sep  3 03:26:32 2022       \n",
            "+-----------------------------------------------------------------------------+\n",
            "| NVIDIA-SMI 460.32.03    Driver Version: 460.32.03    CUDA Version: 11.2     |\n",
            "|-------------------------------+----------------------+----------------------+\n",
            "| GPU  Name        Persistence-M| Bus-Id        Disp.A | Volatile Uncorr. ECC |\n",
            "| Fan  Temp  Perf  Pwr:Usage/Cap|         Memory-Usage | GPU-Util  Compute M. |\n",
            "|                               |                      |               MIG M. |\n",
            "|===============================+======================+======================|\n",
            "|   0  Tesla P100-PCIE...  Off  | 00000000:00:04.0 Off |                    0 |\n",
            "| N/A   37C    P0    27W / 250W |      0MiB / 16280MiB |      0%      Default |\n",
            "|                               |                      |                  N/A |\n",
            "+-------------------------------+----------------------+----------------------+\n",
            "                                                                               \n",
            "+-----------------------------------------------------------------------------+\n",
            "| Processes:                                                                  |\n",
            "|  GPU   GI   CI        PID   Type   Process name                  GPU Memory |\n",
            "|        ID   ID                                                   Usage      |\n",
            "|=============================================================================|\n",
            "|  No running processes found                                                 |\n",
            "+-----------------------------------------------------------------------------+\n"
          ]
        }
      ]
    },
    {
      "cell_type": "code",
      "source": [
        "from psutil import virtual_memory\n",
        "ram_gb = virtual_memory().total / 1e9\n",
        "print('Your runtime has {:.1f} gigabytes of available RAM\\n'.format(ram_gb))\n",
        "\n",
        "if ram_gb < 20:\n",
        "  print('Not using a high-RAM runtime')\n",
        "else:\n",
        "  print('You are using a high-RAM runtime!')"
      ],
      "metadata": {
        "colab": {
          "base_uri": "https://localhost:8080/"
        },
        "id": "x3TsZZzl1GtJ",
        "outputId": "3ca5ae02-ca63-42c6-f528-8c63b4f3aa01"
      },
      "execution_count": null,
      "outputs": [
        {
          "output_type": "stream",
          "name": "stdout",
          "text": [
            "Your runtime has 27.3 gigabytes of available RAM\n",
            "\n",
            "You are using a high-RAM runtime!\n"
          ]
        }
      ]
    },
    {
      "cell_type": "code",
      "source": [
        "# install dependencies\n",
        "import sys\n",
        "!{sys.executable} -m pip install cloud-sql-python-connector[\"pytds\"] SQLAlchemy sqlalchemy-pytds"
      ],
      "metadata": {
        "colab": {
          "base_uri": "https://localhost:8080/"
        },
        "id": "wh2yfn2lkzf_",
        "outputId": "53e09553-2ef6-4935-8fd3-c1cc73336a82"
      },
      "execution_count": 1,
      "outputs": [
        {
          "output_type": "stream",
          "name": "stdout",
          "text": [
            "Looking in indexes: https://pypi.org/simple, https://us-python.pkg.dev/colab-wheels/public/simple/\n",
            "Collecting cloud-sql-python-connector[pytds]\n",
            "  Downloading cloud_sql_python_connector-0.8.0-py2.py3-none-any.whl (31 kB)\n",
            "Requirement already satisfied: SQLAlchemy in /usr/local/lib/python3.7/dist-packages (1.4.40)\n",
            "Collecting sqlalchemy-pytds\n",
            "  Downloading sqlalchemy_pytds-0.3.4-py2.py3-none-any.whl (7.0 kB)\n",
            "Requirement already satisfied: greenlet!=0.4.17 in /usr/local/lib/python3.7/dist-packages (from SQLAlchemy) (1.1.3)\n",
            "Requirement already satisfied: importlib-metadata in /usr/local/lib/python3.7/dist-packages (from SQLAlchemy) (4.12.0)\n",
            "Collecting python-tds\n",
            "  Downloading python-tds-1.11.0.tar.gz (68 kB)\n",
            "\u001b[K     |████████████████████████████████| 68 kB 4.6 MB/s \n",
            "\u001b[?25hCollecting cryptography\n",
            "  Downloading cryptography-37.0.4-cp36-abi3-manylinux_2_24_x86_64.whl (4.1 MB)\n",
            "\u001b[K     |████████████████████████████████| 4.1 MB 70.5 MB/s \n",
            "\u001b[?25hRequirement already satisfied: google-auth in /usr/local/lib/python3.7/dist-packages (from cloud-sql-python-connector[pytds]) (1.35.0)\n",
            "Collecting pyopenssl\n",
            "  Downloading pyOpenSSL-22.0.0-py2.py3-none-any.whl (55 kB)\n",
            "\u001b[K     |████████████████████████████████| 55 kB 4.8 MB/s \n",
            "\u001b[?25hRequirement already satisfied: aiohttp in /usr/local/lib/python3.7/dist-packages (from cloud-sql-python-connector[pytds]) (3.8.1)\n",
            "Requirement already satisfied: Requests in /usr/local/lib/python3.7/dist-packages (from cloud-sql-python-connector[pytds]) (2.23.0)\n",
            "Requirement already satisfied: six>=1.4.1 in /usr/local/lib/python3.7/dist-packages (from python-tds->sqlalchemy-pytds) (1.15.0)\n",
            "Requirement already satisfied: aiosignal>=1.1.2 in /usr/local/lib/python3.7/dist-packages (from aiohttp->cloud-sql-python-connector[pytds]) (1.2.0)\n",
            "Requirement already satisfied: frozenlist>=1.1.1 in /usr/local/lib/python3.7/dist-packages (from aiohttp->cloud-sql-python-connector[pytds]) (1.3.1)\n",
            "Requirement already satisfied: multidict<7.0,>=4.5 in /usr/local/lib/python3.7/dist-packages (from aiohttp->cloud-sql-python-connector[pytds]) (6.0.2)\n",
            "Requirement already satisfied: asynctest==0.13.0 in /usr/local/lib/python3.7/dist-packages (from aiohttp->cloud-sql-python-connector[pytds]) (0.13.0)\n",
            "Requirement already satisfied: yarl<2.0,>=1.0 in /usr/local/lib/python3.7/dist-packages (from aiohttp->cloud-sql-python-connector[pytds]) (1.8.1)\n",
            "Requirement already satisfied: attrs>=17.3.0 in /usr/local/lib/python3.7/dist-packages (from aiohttp->cloud-sql-python-connector[pytds]) (22.1.0)\n",
            "Requirement already satisfied: async-timeout<5.0,>=4.0.0a3 in /usr/local/lib/python3.7/dist-packages (from aiohttp->cloud-sql-python-connector[pytds]) (4.0.2)\n",
            "Requirement already satisfied: charset-normalizer<3.0,>=2.0 in /usr/local/lib/python3.7/dist-packages (from aiohttp->cloud-sql-python-connector[pytds]) (2.1.1)\n",
            "Requirement already satisfied: typing-extensions>=3.7.4 in /usr/local/lib/python3.7/dist-packages (from aiohttp->cloud-sql-python-connector[pytds]) (4.1.1)\n",
            "Requirement already satisfied: idna>=2.0 in /usr/local/lib/python3.7/dist-packages (from yarl<2.0,>=1.0->aiohttp->cloud-sql-python-connector[pytds]) (2.10)\n",
            "Requirement already satisfied: cffi>=1.12 in /usr/local/lib/python3.7/dist-packages (from cryptography->cloud-sql-python-connector[pytds]) (1.15.1)\n",
            "Requirement already satisfied: pycparser in /usr/local/lib/python3.7/dist-packages (from cffi>=1.12->cryptography->cloud-sql-python-connector[pytds]) (2.21)\n",
            "Requirement already satisfied: rsa<5,>=3.1.4 in /usr/local/lib/python3.7/dist-packages (from google-auth->cloud-sql-python-connector[pytds]) (4.9)\n",
            "Requirement already satisfied: pyasn1-modules>=0.2.1 in /usr/local/lib/python3.7/dist-packages (from google-auth->cloud-sql-python-connector[pytds]) (0.2.8)\n",
            "Requirement already satisfied: setuptools>=40.3.0 in /usr/local/lib/python3.7/dist-packages (from google-auth->cloud-sql-python-connector[pytds]) (57.4.0)\n",
            "Requirement already satisfied: cachetools<5.0,>=2.0.0 in /usr/local/lib/python3.7/dist-packages (from google-auth->cloud-sql-python-connector[pytds]) (4.2.4)\n",
            "Requirement already satisfied: pyasn1<0.5.0,>=0.4.6 in /usr/local/lib/python3.7/dist-packages (from pyasn1-modules>=0.2.1->google-auth->cloud-sql-python-connector[pytds]) (0.4.8)\n",
            "Requirement already satisfied: zipp>=0.5 in /usr/local/lib/python3.7/dist-packages (from importlib-metadata->SQLAlchemy) (3.8.1)\n",
            "Requirement already satisfied: chardet<4,>=3.0.2 in /usr/local/lib/python3.7/dist-packages (from Requests->cloud-sql-python-connector[pytds]) (3.0.4)\n",
            "Requirement already satisfied: certifi>=2017.4.17 in /usr/local/lib/python3.7/dist-packages (from Requests->cloud-sql-python-connector[pytds]) (2022.6.15)\n",
            "Requirement already satisfied: urllib3!=1.25.0,!=1.25.1,<1.26,>=1.21.1 in /usr/local/lib/python3.7/dist-packages (from Requests->cloud-sql-python-connector[pytds]) (1.24.3)\n",
            "Building wheels for collected packages: python-tds\n",
            "  Building wheel for python-tds (setup.py) ... \u001b[?25l\u001b[?25hdone\n",
            "  Created wheel for python-tds: filename=python_tds-1.11.0-py3-none-any.whl size=69953 sha256=2eaaca4dd660e7a139f502d0737b197dd97bdf6fb99c47166b81e0fb1f5cb314\n",
            "  Stored in directory: /root/.cache/pip/wheels/83/3f/26/3701ff734ec19c316df513202ba322ce6b3da58e41bfe9725a\n",
            "Successfully built python-tds\n",
            "Installing collected packages: cryptography, pyopenssl, python-tds, cloud-sql-python-connector, sqlalchemy-pytds\n",
            "Successfully installed cloud-sql-python-connector-0.8.0 cryptography-37.0.4 pyopenssl-22.0.0 python-tds-1.11.0 sqlalchemy-pytds-0.3.4\n"
          ]
        }
      ]
    },
    {
      "cell_type": "code",
      "source": [
        "!pip install glove-python-binary"
      ],
      "metadata": {
        "colab": {
          "base_uri": "https://localhost:8080/"
        },
        "id": "3cXTQRpGgzKF",
        "outputId": "69120e31-471c-4087-fbfb-18ae8dd914fb"
      },
      "execution_count": 2,
      "outputs": [
        {
          "output_type": "stream",
          "name": "stdout",
          "text": [
            "Looking in indexes: https://pypi.org/simple, https://us-python.pkg.dev/colab-wheels/public/simple/\n",
            "Collecting glove-python-binary\n",
            "  Downloading glove_python_binary-0.2.0-cp37-cp37m-manylinux1_x86_64.whl (948 kB)\n",
            "\u001b[K     |████████████████████████████████| 948 kB 8.0 MB/s \n",
            "\u001b[?25hRequirement already satisfied: scipy in /usr/local/lib/python3.7/dist-packages (from glove-python-binary) (1.7.3)\n",
            "Requirement already satisfied: numpy in /usr/local/lib/python3.7/dist-packages (from glove-python-binary) (1.21.6)\n",
            "Installing collected packages: glove-python-binary\n",
            "Successfully installed glove-python-binary-0.2.0\n"
          ]
        }
      ]
    },
    {
      "cell_type": "code",
      "source": [
        "from google.colab import auth\n",
        "auth.authenticate_user()"
      ],
      "metadata": {
        "id": "CgJE70QUn7IR"
      },
      "execution_count": 3,
      "outputs": []
    },
    {
      "cell_type": "code",
      "source": [
        "import os.path\n",
        "import numpy as np\n",
        "import pandas as pd\n",
        "import sqlalchemy\n",
        "from sqlalchemy import create_engine\n"
      ],
      "metadata": {
        "id": "ZEC3Ie4FHmBF"
      },
      "execution_count": 4,
      "outputs": []
    },
    {
      "cell_type": "code",
      "source": [
        "def sqlcol(dfparam):\n",
        "    dtypedict = {}\n",
        "    for i, j in zip(dfparam.columns, dfparam.dtypes):\n",
        "        if \"object\" in str(j):\n",
        "            dtypedict.update({i: sqlalchemy.types.NVARCHAR(length=255)})\n",
        "        if \"datetime\" in str(j):\n",
        "            dtypedict.update({i: sqlalchemy.types.DateTime()})\n",
        "        if \"float\" in str(j):\n",
        "            dtypedict.update({i: sqlalchemy.types.Float(precision=6, asdecimal=True)})\n",
        "        if \"int\" in str(j):\n",
        "            dtypedict.update({i: sqlalchemy.types.INT()})\n",
        "    return dtypedict\n"
      ],
      "metadata": {
        "id": "ZBgJHiWmH3RO"
      },
      "execution_count": 5,
      "outputs": []
    },
    {
      "cell_type": "code",
      "source": [
        "# initialize parameters\n",
        "project_id=\"infra-analyzer-317122\"\n",
        "region=\"us-central1\"\n",
        "instance_name=\"sql-marta-tovias\"\n",
        "\n",
        "INSTANCE_CONNECTION_NAME = f\"{project_id}:{region}:{instance_name}\" # i.e demo-project:us-central1:demo-instance\n",
        "print(f\"Your instance connection name is: {INSTANCE_CONNECTION_NAME}\")\n",
        "DB_USER = \"sqlserver\"\n",
        "DB_PASS = \"marta.1996.1\"\n",
        "DB_NAME = \"marta-tweets\""
      ],
      "metadata": {
        "colab": {
          "base_uri": "https://localhost:8080/"
        },
        "id": "wp2brX6clU48",
        "outputId": "534c8dca-2881-4373-abf3-87ed5c10f493"
      },
      "execution_count": 6,
      "outputs": [
        {
          "output_type": "stream",
          "name": "stdout",
          "text": [
            "Your instance connection name is: infra-analyzer-317122:us-central1:sql-marta-tovias\n"
          ]
        }
      ]
    },
    {
      "cell_type": "code",
      "source": [
        "from google.cloud.sql.connector import Connector\n",
        "import sqlalchemy\n",
        "from sqlalchemy import Column, Float, Integer, String, Table\n",
        "\n",
        "# initialize Connector object\n",
        "connector = Connector()\n",
        "\n",
        "# function to return the database connection object\n",
        "def getconn():\n",
        "    conn = connector.connect(\n",
        "        INSTANCE_CONNECTION_NAME,\n",
        "        \"pytds\",\n",
        "        user=DB_USER,\n",
        "        password=DB_PASS,\n",
        "        db=DB_NAME\n",
        "    )\n",
        "    return conn\n",
        "\n",
        "# create connection pool with 'creator' argument to our connection object function\n",
        "pool = sqlalchemy.create_engine(\n",
        "    \"mssql+pytds://localhost\",\n",
        "    creator=getconn,\n",
        ")"
      ],
      "metadata": {
        "id": "xsVAIZVuna_w"
      },
      "execution_count": 7,
      "outputs": []
    },
    {
      "cell_type": "code",
      "source": [
        "\n",
        "# connect to connection pool\n",
        "with pool.connect() as db_conn:\n",
        "    # query database and fetch results\n",
        "    cursor = db_conn.execute(\"SELECT top 10 ltrim(Tweet_Cleaned) as Tweet_Text from RTweets_Grouped\").fetchall()\n",
        "\n",
        "\n",
        "# cleanup connector\n",
        "connector.close()"
      ],
      "metadata": {
        "id": "T36vK-a3oqF9"
      },
      "execution_count": 8,
      "outputs": []
    },
    {
      "cell_type": "code",
      "source": [
        "\n",
        "print(\"Tweeting\")\n",
        "my_list=[]\n",
        "for row in cursor:\n",
        "    tweet = str(row.Tweet_Text)\n",
        "    my_list.append([tweet])"
      ],
      "metadata": {
        "colab": {
          "base_uri": "https://localhost:8080/"
        },
        "id": "6iFjXV4uIAtp",
        "outputId": "10670ea8-ef9e-458d-e219-e3d08234c4f3"
      },
      "execution_count": 9,
      "outputs": [
        {
          "output_type": "stream",
          "name": "stdout",
          "text": [
            "Tweeting\n"
          ]
        }
      ]
    },
    {
      "cell_type": "code",
      "source": [
        "import glove"
      ],
      "metadata": {
        "id": "WOzbrBTUjOw1"
      },
      "execution_count": 10,
      "outputs": []
    },
    {
      "cell_type": "code",
      "source": [
        "from glove import Glove\n",
        "from glove import Corpus"
      ],
      "metadata": {
        "id": "EDymp2qHjQV0"
      },
      "execution_count": 11,
      "outputs": []
    },
    {
      "cell_type": "code",
      "source": [
        "glove = Glove.load('glove.model')"
      ],
      "metadata": {
        "colab": {
          "base_uri": "https://localhost:8080/",
          "height": 287
        },
        "id": "IOaRiiIqlVz6",
        "outputId": "f048da13-3d59-42bd-b4a0-eaf324eb3372"
      },
      "execution_count": 12,
      "outputs": [
        {
          "output_type": "error",
          "ename": "FileNotFoundError",
          "evalue": "ignored",
          "traceback": [
            "\u001b[0;31m---------------------------------------------------------------------------\u001b[0m",
            "\u001b[0;31mFileNotFoundError\u001b[0m                         Traceback (most recent call last)",
            "\u001b[0;32m<ipython-input-12-b00408554100>\u001b[0m in \u001b[0;36m<module>\u001b[0;34m\u001b[0m\n\u001b[0;32m----> 1\u001b[0;31m \u001b[0mglove\u001b[0m \u001b[0;34m=\u001b[0m \u001b[0mGlove\u001b[0m\u001b[0;34m.\u001b[0m\u001b[0mload\u001b[0m\u001b[0;34m(\u001b[0m\u001b[0;34m'glove.model'\u001b[0m\u001b[0;34m)\u001b[0m\u001b[0;34m\u001b[0m\u001b[0;34m\u001b[0m\u001b[0m\n\u001b[0m",
            "\u001b[0;32m/usr/local/lib/python3.7/dist-packages/glove/glove.py\u001b[0m in \u001b[0;36mload\u001b[0;34m(cls, filename)\u001b[0m\n\u001b[1;32m    227\u001b[0m         \u001b[0minstance\u001b[0m \u001b[0;34m=\u001b[0m \u001b[0mGlove\u001b[0m\u001b[0;34m(\u001b[0m\u001b[0;34m)\u001b[0m\u001b[0;34m\u001b[0m\u001b[0;34m\u001b[0m\u001b[0m\n\u001b[1;32m    228\u001b[0m \u001b[0;34m\u001b[0m\u001b[0m\n\u001b[0;32m--> 229\u001b[0;31m         \u001b[0;32mwith\u001b[0m \u001b[0mopen\u001b[0m\u001b[0;34m(\u001b[0m\u001b[0mfilename\u001b[0m\u001b[0;34m,\u001b[0m \u001b[0;34m'rb'\u001b[0m\u001b[0;34m)\u001b[0m \u001b[0;32mas\u001b[0m \u001b[0msavefile\u001b[0m\u001b[0;34m:\u001b[0m\u001b[0;34m\u001b[0m\u001b[0;34m\u001b[0m\u001b[0m\n\u001b[0m\u001b[1;32m    230\u001b[0m             \u001b[0minstance\u001b[0m\u001b[0;34m.\u001b[0m\u001b[0m__dict__\u001b[0m \u001b[0;34m=\u001b[0m \u001b[0mpickle\u001b[0m\u001b[0;34m.\u001b[0m\u001b[0mload\u001b[0m\u001b[0;34m(\u001b[0m\u001b[0msavefile\u001b[0m\u001b[0;34m)\u001b[0m\u001b[0;34m\u001b[0m\u001b[0;34m\u001b[0m\u001b[0m\n\u001b[1;32m    231\u001b[0m \u001b[0;34m\u001b[0m\u001b[0m\n",
            "\u001b[0;31mFileNotFoundError\u001b[0m: [Errno 2] No such file or directory: 'glove.model'"
          ]
        }
      ]
    },
    {
      "cell_type": "code",
      "source": [
        "ww=[]\n",
        "vv=[]\n",
        "\n",
        "  for doc in my_list:\n",
        "      words=doc.split()\n",
        "      for w in words:\n",
        "        if w != ' ':\n",
        "            try:\n",
        "                if len(model.get(w)>0):\n",
        "                    ww.append(w)\n",
        "                    vv.append(model.get(w))\n",
        "            except:\n",
        "                pass\n",
        "  print(\"Generating DataFrame to Insert\")"
      ],
      "metadata": {
        "id": "WIoHiPzn2XGw"
      },
      "execution_count": null,
      "outputs": []
    },
    {
      "cell_type": "code",
      "source": [],
      "metadata": {
        "id": "g2b0qPFtlQJ4"
      },
      "execution_count": null,
      "outputs": []
    },
    {
      "cell_type": "code",
      "source": [
        "print(\"Tokenizing\")\n",
        "segment=[]\n",
        "\n",
        "for doc in lines:\n",
        "    words=nlp(doc[0])\n",
        "    word_list=[]\n",
        "    for w in words:\n",
        "        if (w.text != ' ') & (len(w.text)>3):\n",
        "            word_list.append(w.lemma_)\n",
        "    segment.append(word_list)"
      ],
      "metadata": {
        "colab": {
          "base_uri": "https://localhost:8080/"
        },
        "id": "tADWpv-ZsS1O",
        "outputId": "b3c3f37a-db87-4417-9926-faef24dcb97a"
      },
      "execution_count": null,
      "outputs": [
        {
          "output_type": "stream",
          "name": "stdout",
          "text": [
            "Tokenizing\n"
          ]
        }
      ]
    },
    {
      "cell_type": "code",
      "source": [
        "print(glove.word_vectors[glove.dictionary['mal']])"
      ],
      "metadata": {
        "colab": {
          "base_uri": "https://localhost:8080/"
        },
        "id": "u6p2j_6WtMqQ",
        "outputId": "250b3d10-7848-4292-b486-8b84f51ac628"
      },
      "execution_count": null,
      "outputs": [
        {
          "output_type": "stream",
          "name": "stdout",
          "text": [
            "[ 4.24347513e-03 -2.85215070e-04  2.14450894e-02 -2.23681200e-02\n",
            " -3.46643890e-02  1.17016710e-02  2.27116041e-03 -3.75142623e-02\n",
            "  1.85080058e-03 -6.59323362e-03 -6.39381956e-05 -7.30140317e-03\n",
            " -7.61475499e-03 -2.44741192e-04  1.25723883e-03  6.21176089e-03\n",
            "  5.18009957e-03 -1.64182030e-02  1.22078448e-02 -1.33370441e-03\n",
            " -3.89341290e-05 -4.37640079e-02  5.71971678e-03  4.72969177e-03\n",
            "  4.09246983e-03 -5.12284838e-05  6.00217035e-03  1.46867408e-02\n",
            "  1.61846221e-02 -5.59331429e-03  7.77183614e-03 -2.64545484e-03\n",
            " -8.13183518e-03 -3.19364352e-02 -4.18326472e-02  4.88889228e-05\n",
            " -1.18251304e-03  5.31086240e-03 -2.98587902e-02  4.93016031e-03\n",
            " -1.39947132e-02  4.63620128e-03 -6.93766907e-03  1.73637862e-02\n",
            " -1.19081521e-02 -3.67334614e-03 -3.87715398e-02  1.23755071e-03\n",
            "  3.15271231e-02 -3.38052771e-02  6.85757005e-03  8.00240908e-03\n",
            " -1.14956352e-03  3.65662448e-04  2.84557809e-03  3.92521905e-03\n",
            "  9.87227305e-03  1.27080628e-03 -8.55577421e-03  3.42578223e-03\n",
            " -4.45680993e-03  3.16999701e-03  6.08240855e-03 -7.74359810e-04\n",
            "  3.47572252e-03 -5.00756277e-03  7.20882521e-03 -1.95349430e-04\n",
            "  1.75377942e-02  1.44561187e-02  4.58961156e-02  1.21912206e-02\n",
            " -5.91937515e-03  2.48399175e-03  1.25332796e-04 -2.70626243e-04\n",
            " -4.61547897e-03  6.06334899e-03 -6.20859383e-03 -8.28467618e-03\n",
            "  2.52217264e-02  1.76452720e-02  1.18477985e-02 -2.03636359e-02\n",
            "  5.51538230e-04 -9.01751792e-03 -1.01203403e-02  1.07918189e-02\n",
            "  8.66446893e-03  5.30428549e-03  1.85371132e-02 -1.55533458e-02\n",
            " -1.29689909e-03 -1.52489375e-02  7.88246790e-03 -5.78967509e-03\n",
            "  6.97672653e-03  5.08797101e-03  5.41340526e-03  2.21323700e-02]\n"
          ]
        }
      ]
    },
    {
      "cell_type": "code",
      "source": [
        "glove = Glove.load('glove.model')\n"
      ],
      "metadata": {
        "id": "jbeVjfG0dNCM"
      },
      "execution_count": null,
      "outputs": []
    }
  ]
}